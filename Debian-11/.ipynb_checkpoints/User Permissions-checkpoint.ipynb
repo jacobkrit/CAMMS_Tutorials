{
 "cells": [
  {
   "cell_type": "markdown",
   "id": "5f6ebbfa-042f-42e1-b439-570a5243abf6",
   "metadata": {},
   "source": [
    "# Debian 11 User Permissions \n",
    "\n",
    "### Give in Debian 11 USER_NAME Sudo/Administration permissions \n",
    "\n",
    "**Method 1: How to add user to sudoers using terminal in Debian 11**\n",
    "\n",
    "Open the terminal in Debian 11 by clicking on “Activities” and then search for terminal as shown in the image below:\n",
    "\n",
    "- `$ su root`  \n",
    "- `$ sudo usermod -aG sudo USER_NAME`  \n",
    "- Reboot Computer and log-ing to the USER_NAME  \n",
    "- Test sudo permissions  \n",
    "- `$ sudo test`  \n",
    "\n",
    "**Method 2: How to add user to sudoers using GUI in Debian 11**\n",
    "\n",
    "Login to any user you have > top right corner arrow > settings > Left column select Users > Press Unlock > Add User > Select Administrator \n",
    "    > insert user as full name and username. And log in with the “user” account.\n",
    "Reboot Computer and log-ing to the USER_NAME\n",
    "Test sudo permissions\n",
    "`$ sudo test`\n",
    "\n",
    "![debian-perm-0](images/debian-perm-0.jpg \"debian-perm-0\")\n",
    "![debian-perm-1](images/debian-perm-1.jpg \"debian-perm-1\")\n",
    "![debian-perm-2](images/debian-perm-2.jpg \"debian-perm-2\")"
   ]
  },
  {
   "cell_type": "code",
   "execution_count": null,
   "id": "6aa790ad-d51d-407d-84e5-7282ed6d8519",
   "metadata": {},
   "outputs": [],
   "source": []
  }
 ],
 "metadata": {
  "kernelspec": {
   "display_name": "Python 3 (ipykernel)",
   "language": "python",
   "name": "python3"
  },
  "language_info": {
   "codemirror_mode": {
    "name": "ipython",
    "version": 3
   },
   "file_extension": ".py",
   "mimetype": "text/x-python",
   "name": "python",
   "nbconvert_exporter": "python",
   "pygments_lexer": "ipython3",
   "version": "3.9.12"
  }
 },
 "nbformat": 4,
 "nbformat_minor": 5
}
